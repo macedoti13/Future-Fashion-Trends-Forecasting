{
 "cells": [
  {
   "attachments": {},
   "cell_type": "markdown",
   "metadata": {},
   "source": [
    "## Imports"
   ]
  },
  {
   "cell_type": "code",
   "execution_count": 9,
   "metadata": {},
   "outputs": [],
   "source": [
    "from ultralytics import YOLO\n",
    "import cv2\n",
    "import matplotlib.pyplot as plt\n",
    "import numpy as np\n",
    "from segment_anything import sam_model_registry, SamPredictor\n",
    "import supervision as sv\n",
    "import os\n",
    "import torch"
   ]
  },
  {
   "attachments": {},
   "cell_type": "markdown",
   "metadata": {},
   "source": [
    "## Configuration"
   ]
  },
  {
   "cell_type": "code",
   "execution_count": 10,
   "metadata": {},
   "outputs": [],
   "source": [
    "HOME = os.getcwd()\n",
    "DEVICE = torch.device('cuda:0' if torch.cuda.is_available() else 'cpu')\n",
    "MODEL_TYPE = \"vit_h\"\n",
    "CHECKPOINT_PATH = os.path.join(HOME, \"models\", \"sam_weights.pth\")\n",
    "IMAGE_PATH = 'images/1.jpg'"
   ]
  },
  {
   "attachments": {},
   "cell_type": "markdown",
   "metadata": {},
   "source": [
    "## Creates SAM model"
   ]
  },
  {
   "cell_type": "code",
   "execution_count": 11,
   "metadata": {},
   "outputs": [],
   "source": [
    "sam = sam_model_registry[MODEL_TYPE](checkpoint=CHECKPOINT_PATH).to(device=DEVICE)\n",
    "mask_predictor = SamPredictor(sam)"
   ]
  },
  {
   "attachments": {},
   "cell_type": "markdown",
   "metadata": {},
   "source": [
    "## Creates YOLO model"
   ]
  },
  {
   "cell_type": "code",
   "execution_count": 12,
   "metadata": {},
   "outputs": [],
   "source": [
    "yolo = YOLO(\"models/yolo_weights.pt\")"
   ]
  },
  {
   "attachments": {},
   "cell_type": "markdown",
   "metadata": {},
   "source": [
    "## Functions"
   ]
  },
  {
   "cell_type": "code",
   "execution_count": 13,
   "metadata": {},
   "outputs": [],
   "source": [
    "def convert_bbox_x1y1x2y2_to_xywh(x1, y1, x2, y2):\n",
    "    w = x2 - x1\n",
    "    h = y2 - y1\n",
    "    x = x1\n",
    "    y = y1\n",
    "    return x, y, w, h"
   ]
  },
  {
   "attachments": {},
   "cell_type": "markdown",
   "metadata": {},
   "source": [
    "## Predicts with YOLO model"
   ]
  },
  {
   "cell_type": "code",
   "execution_count": 14,
   "metadata": {},
   "outputs": [
    {
     "name": "stderr",
     "output_type": "stream",
     "text": [
      "\n",
      "image 1/1 /Users/thiagomacedo/Documents/Documents - Thiago’s MacBook Air/Faculdade/5Semestre/Projeto/instagram/images/1.jpg: 640x640 1 jacket, 411.8ms\n",
      "Speed: 10.2ms preprocess, 411.8ms inference, 17.5ms postprocess per image at shape (1, 3, 640, 640)\n"
     ]
    }
   ],
   "source": [
    "yolo_output = yolo.predict(IMAGE_PATH, conf=0.5)\n",
    "\n",
    "r = []\n",
    "for result in yolo_output:\n",
    "    for bbox in result.boxes.data,:\n",
    "        box = bbox.int().cpu().numpy()\n",
    "        for b in box:\n",
    "            x, y, w, h = convert_bbox_x1y1x2y2_to_xywh(b[0], b[1], b[2], b[3])\n",
    "            r.append([b[0], b[1], b[2], b[3], b[5]])\n",
    "\n",
    "names = yolo_output[0].names"
   ]
  },
  {
   "cell_type": "code",
   "execution_count": 15,
   "metadata": {},
   "outputs": [],
   "source": [
    "for i, box in enumerate(r):\n",
    "    label = box[-1]\n",
    "    box = box[:-1]\n",
    "    box = np.array(box)\n",
    "    \n",
    "    image = cv2.imread(IMAGE_PATH)\n",
    "    image = cv2.cvtColor(image, cv2.COLOR_BGR2RGB)\n",
    "    \n",
    "    mask_predictor.set_image(image)\n",
    "    \n",
    "    masks, scores, logits = mask_predictor.predict(box=box, multimask_output=True)\n",
    "    \n",
    "    box_annotator = sv.BoxAnnotator(color=sv.Color.red())\n",
    "    mask_annotator = sv.MaskAnnotator(color=sv.Color.red())\n",
    "    \n",
    "    detections = sv.Detections(xyxy=sv.mask_to_xyxy(masks=masks),mask=masks)\n",
    "    detections = detections[detections.area == np.max(detections.area)]\n",
    "\n",
    "    source_image = box_annotator.annotate(scene=image.copy(), detections=detections, skip_label=True)\n",
    "    segmented_image = mask_annotator.annotate(scene=image.copy(), detections=detections)\n",
    "    \n",
    "    #take the 3 masks and combine them with an OR operation\n",
    "    mask = np.zeros((256, 256), dtype=np.uint8)\n",
    "    for m in masks:\n",
    "        mask = np.logical_or(mask, m)\n",
    "    mask = mask.astype(np.uint8) * 255\n",
    "\n",
    "    img_to_save = mask\n",
    "    s = IMAGE_PATH.replace(\".jpg\", \"\").replace(\"images/\", \"\")\n",
    "    save_path = f\"segmented_images/{names[label]}_{s}.png\"\n",
    "    cv2.imwrite(save_path, img_to_save)"
   ]
  }
 ],
 "metadata": {
  "kernelspec": {
   "display_name": "fashion-forecast-2",
   "language": "python",
   "name": "python3"
  },
  "language_info": {
   "codemirror_mode": {
    "name": "ipython",
    "version": 3
   },
   "file_extension": ".py",
   "mimetype": "text/x-python",
   "name": "python",
   "nbconvert_exporter": "python",
   "pygments_lexer": "ipython3",
   "version": "3.10.4"
  },
  "orig_nbformat": 4
 },
 "nbformat": 4,
 "nbformat_minor": 2
}
