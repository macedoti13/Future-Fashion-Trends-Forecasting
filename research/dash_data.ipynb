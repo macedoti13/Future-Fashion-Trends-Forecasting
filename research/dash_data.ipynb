{
 "cells": [
  {
   "cell_type": "code",
   "execution_count": 2,
   "metadata": {},
   "outputs": [],
   "source": [
    "import pandas as pd\n",
    "import numpy as np"
   ]
  },
  {
   "cell_type": "code",
   "execution_count": 3,
   "metadata": {},
   "outputs": [
    {
     "data": {
      "text/html": [
       "<div>\n",
       "<style scoped>\n",
       "    .dataframe tbody tr th:only-of-type {\n",
       "        vertical-align: middle;\n",
       "    }\n",
       "\n",
       "    .dataframe tbody tr th {\n",
       "        vertical-align: top;\n",
       "    }\n",
       "\n",
       "    .dataframe thead th {\n",
       "        text-align: right;\n",
       "    }\n",
       "</style>\n",
       "<table border=\"1\" class=\"dataframe\">\n",
       "  <thead>\n",
       "    <tr style=\"text-align: right;\">\n",
       "      <th></th>\n",
       "      <th>id</th>\n",
       "      <th>type</th>\n",
       "      <th>n_comments</th>\n",
       "      <th>n_likes</th>\n",
       "      <th>image</th>\n",
       "    </tr>\n",
       "  </thead>\n",
       "  <tbody>\n",
       "    <tr>\n",
       "      <th>0</th>\n",
       "      <td>1</td>\n",
       "      <td>Sidecar</td>\n",
       "      <td>142.0</td>\n",
       "      <td>32070.0</td>\n",
       "      <td>https://scontent-ord5-1.cdninstagram.com/v/t51...</td>\n",
       "    </tr>\n",
       "    <tr>\n",
       "      <th>1</th>\n",
       "      <td>2</td>\n",
       "      <td>Sidecar</td>\n",
       "      <td>86.0</td>\n",
       "      <td>6565.0</td>\n",
       "      <td>https://instagram.fyei4-1.fna.fbcdn.net/v/t51....</td>\n",
       "    </tr>\n",
       "    <tr>\n",
       "      <th>2</th>\n",
       "      <td>3</td>\n",
       "      <td>Sidecar</td>\n",
       "      <td>123.0</td>\n",
       "      <td>28936.0</td>\n",
       "      <td>https://instagram.fpeg1-2.fna.fbcdn.net/v/t51....</td>\n",
       "    </tr>\n",
       "    <tr>\n",
       "      <th>3</th>\n",
       "      <td>4</td>\n",
       "      <td>Sidecar</td>\n",
       "      <td>215.0</td>\n",
       "      <td>4764.0</td>\n",
       "      <td>https://scontent-lhr8-1.cdninstagram.com/v/t51...</td>\n",
       "    </tr>\n",
       "    <tr>\n",
       "      <th>4</th>\n",
       "      <td>5</td>\n",
       "      <td>Sidecar</td>\n",
       "      <td>123.0</td>\n",
       "      <td>13379.0</td>\n",
       "      <td>https://instagram.fprg5-1.fna.fbcdn.net/v/t51....</td>\n",
       "    </tr>\n",
       "  </tbody>\n",
       "</table>\n",
       "</div>"
      ],
      "text/plain": [
       "   id     type  n_comments  n_likes   \n",
       "0   1  Sidecar       142.0  32070.0  \\\n",
       "1   2  Sidecar        86.0   6565.0   \n",
       "2   3  Sidecar       123.0  28936.0   \n",
       "3   4  Sidecar       215.0   4764.0   \n",
       "4   5  Sidecar       123.0  13379.0   \n",
       "\n",
       "                                               image  \n",
       "0  https://scontent-ord5-1.cdninstagram.com/v/t51...  \n",
       "1  https://instagram.fyei4-1.fna.fbcdn.net/v/t51....  \n",
       "2  https://instagram.fpeg1-2.fna.fbcdn.net/v/t51....  \n",
       "3  https://scontent-lhr8-1.cdninstagram.com/v/t51...  \n",
       "4  https://instagram.fprg5-1.fna.fbcdn.net/v/t51....  "
      ]
     },
     "execution_count": 3,
     "metadata": {},
     "output_type": "execute_result"
    }
   ],
   "source": [
    "df_posts = pd.read_csv('../data/posts.csv')\n",
    "df_posts.head()"
   ]
  },
  {
   "cell_type": "code",
   "execution_count": 4,
   "metadata": {},
   "outputs": [
    {
     "data": {
      "text/html": [
       "<div>\n",
       "<style scoped>\n",
       "    .dataframe tbody tr th:only-of-type {\n",
       "        vertical-align: middle;\n",
       "    }\n",
       "\n",
       "    .dataframe tbody tr th {\n",
       "        vertical-align: top;\n",
       "    }\n",
       "\n",
       "    .dataframe thead th {\n",
       "        text-align: right;\n",
       "    }\n",
       "</style>\n",
       "<table border=\"1\" class=\"dataframe\">\n",
       "  <thead>\n",
       "    <tr style=\"text-align: right;\">\n",
       "      <th></th>\n",
       "      <th>id</th>\n",
       "      <th>comments</th>\n",
       "    </tr>\n",
       "  </thead>\n",
       "  <tbody>\n",
       "    <tr>\n",
       "      <th>0</th>\n",
       "      <td>1</td>\n",
       "      <td>I have a proposal for u, send me a DM please!</td>\n",
       "    </tr>\n",
       "    <tr>\n",
       "      <th>1</th>\n",
       "      <td>1</td>\n",
       "      <td>Woaaaah</td>\n",
       "    </tr>\n",
       "    <tr>\n",
       "      <th>2</th>\n",
       "      <td>1</td>\n",
       "      <td>:smiling_face_with_heart-eyes::smiling_face_wi...</td>\n",
       "    </tr>\n",
       "    <tr>\n",
       "      <th>3</th>\n",
       "      <td>1</td>\n",
       "      <td>:red_heart:️:red_heart:️:red_heart:️</td>\n",
       "    </tr>\n",
       "    <tr>\n",
       "      <th>4</th>\n",
       "      <td>1</td>\n",
       "      <td>:smiling_face_with_heart-eyes::smiling_face_wi...</td>\n",
       "    </tr>\n",
       "  </tbody>\n",
       "</table>\n",
       "</div>"
      ],
      "text/plain": [
       "   id                                           comments\n",
       "0   1      I have a proposal for u, send me a DM please!\n",
       "1   1                                            Woaaaah\n",
       "2   1  :smiling_face_with_heart-eyes::smiling_face_wi...\n",
       "3   1               :red_heart:️:red_heart:️:red_heart:️\n",
       "4   1  :smiling_face_with_heart-eyes::smiling_face_wi..."
      ]
     },
     "execution_count": 4,
     "metadata": {},
     "output_type": "execute_result"
    }
   ],
   "source": [
    "df_comments = pd.read_csv('../data/posts_comments.csv')\n",
    "df_comments.head()"
   ]
  },
  {
   "cell_type": "code",
   "execution_count": 6,
   "metadata": {},
   "outputs": [],
   "source": [
    "df_comments.to_csv('../data/dash_comments.csv', sep=';')"
   ]
  },
  {
   "cell_type": "code",
   "execution_count": 7,
   "metadata": {},
   "outputs": [],
   "source": [
    "df_posts[['id', 'type', 'n_likes', 'n_comments']].to_csv('../data/dash_posts.csv')"
   ]
  }
 ],
 "metadata": {
  "kernelspec": {
   "display_name": "fashion-forecast-2",
   "language": "python",
   "name": "python3"
  },
  "language_info": {
   "codemirror_mode": {
    "name": "ipython",
    "version": 3
   },
   "file_extension": ".py",
   "mimetype": "text/x-python",
   "name": "python",
   "nbconvert_exporter": "python",
   "pygments_lexer": "ipython3",
   "version": "3.10.4"
  },
  "orig_nbformat": 4
 },
 "nbformat": 4,
 "nbformat_minor": 2
}
